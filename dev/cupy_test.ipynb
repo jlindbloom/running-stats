{
 "cells": [
  {
   "cell_type": "code",
   "execution_count": 1,
   "metadata": {},
   "outputs": [
    {
     "name": "stderr",
     "output_type": "stream",
     "text": [
      "<frozen importlib._bootstrap>:219: RuntimeWarning: scipy._lib.messagestream.MessageStream size changed, may indicate binary incompatibility. Expected 56 from C header, got 64 from PyObject\n"
     ]
    }
   ],
   "source": [
    "import numpy as np\n",
    "import matplotlib.pyplot as plt\n",
    "from scipy.stats import skew, kurtosis\n",
    "import cupy as cp\n",
    "\n",
    "from runningstats import StatsTracker"
   ]
  },
  {
   "cell_type": "markdown",
   "metadata": {},
   "source": [
    "# Check"
   ]
  },
  {
   "cell_type": "code",
   "execution_count": 2,
   "metadata": {},
   "outputs": [],
   "source": [
    "np.random.seed(0)\n",
    "sample_size=3000\n",
    "samples = cp.random.normal(size=(3, 3, sample_size))"
   ]
  },
  {
   "cell_type": "code",
   "execution_count": 4,
   "metadata": {},
   "outputs": [],
   "source": [
    "tracker = StatsTracker((3,3), device=\"gpu\")\n",
    "for j in range(sample_size):\n",
    "    tracker.push(samples[:,:,j])"
   ]
  },
  {
   "cell_type": "code",
   "execution_count": 5,
   "metadata": {},
   "outputs": [
    {
     "name": "stdout",
     "output_type": "stream",
     "text": [
      "3000\n"
     ]
    }
   ],
   "source": [
    "print(tracker.sample_size())"
   ]
  },
  {
   "cell_type": "code",
   "execution_count": 6,
   "metadata": {},
   "outputs": [
    {
     "name": "stdout",
     "output_type": "stream",
     "text": [
      "[[ 0.00302671 -0.0036464  -0.01954829]\n",
      " [-0.0033383  -0.0287091   0.00596103]\n",
      " [-0.01644524  0.01051236  0.00400089]]\n",
      "[[ 0.00302671 -0.0036464  -0.01954829]\n",
      " [-0.0033383  -0.0287091   0.00596103]\n",
      " [-0.01644524  0.01051236  0.00400089]]\n"
     ]
    }
   ],
   "source": [
    "print(tracker.mean())\n",
    "print(cp.mean(samples, axis=2))"
   ]
  },
  {
   "cell_type": "code",
   "execution_count": 7,
   "metadata": {},
   "outputs": [
    {
     "name": "stdout",
     "output_type": "stream",
     "text": [
      "[[0.97490192 1.01762314 0.97512216]\n",
      " [1.00866004 1.01647694 0.99555115]\n",
      " [1.01208155 0.99239737 0.98558975]]\n",
      "[[0.97490192 1.01762314 0.97512216]\n",
      " [1.00866004 1.01647694 0.99555115]\n",
      " [1.01208155 0.99239737 0.98558975]]\n"
     ]
    }
   ],
   "source": [
    "print(tracker.variance())\n",
    "print(cp.var(samples, axis=2, ddof=1))"
   ]
  },
  {
   "cell_type": "code",
   "execution_count": 8,
   "metadata": {},
   "outputs": [
    {
     "name": "stdout",
     "output_type": "stream",
     "text": [
      "[[0.98737122 1.00877309 0.98748274]\n",
      " [1.00432069 1.00820481 0.9977731 ]\n",
      " [1.00602264 0.99619143 0.99276873]]\n",
      "[[0.98737122 1.00877309 0.98748274]\n",
      " [1.00432069 1.00820481 0.9977731 ]\n",
      " [1.00602264 0.99619143 0.99276873]]\n"
     ]
    }
   ],
   "source": [
    "print(tracker.stdev())\n",
    "print(cp.std(samples, axis=2, ddof=1))"
   ]
  },
  {
   "cell_type": "code",
   "execution_count": 11,
   "metadata": {},
   "outputs": [
    {
     "name": "stdout",
     "output_type": "stream",
     "text": [
      "[[-0.00940243  0.04678884  0.03011636]\n",
      " [-0.05063272 -0.08082565  0.00857613]\n",
      " [-0.07033733  0.01638844  0.01006242]]\n",
      "[[-0.00940243  0.04678884  0.03011636]\n",
      " [-0.05063272 -0.08082565  0.00857613]\n",
      " [-0.07033733  0.01638844  0.01006242]]\n"
     ]
    }
   ],
   "source": [
    "print(tracker.skewness())\n",
    "print(skew(samples.get(), axis=2))"
   ]
  },
  {
   "cell_type": "code",
   "execution_count": 12,
   "metadata": {},
   "outputs": [
    {
     "name": "stdout",
     "output_type": "stream",
     "text": [
      "[[-0.05406281  0.00125444 -0.06613311]\n",
      " [ 0.17673225  0.22061916 -0.18343131]\n",
      " [ 0.06036077 -0.00519771 -0.03522557]]\n",
      "[[-0.05406281  0.00125444 -0.06613311]\n",
      " [ 0.17673225  0.22061916 -0.18343131]\n",
      " [ 0.06036077 -0.00519771 -0.03522557]]\n"
     ]
    }
   ],
   "source": [
    "print(tracker.kurtosis())\n",
    "print(kurtosis(samples.get(), axis=2))"
   ]
  },
  {
   "cell_type": "code",
   "execution_count": null,
   "metadata": {},
   "outputs": [],
   "source": []
  },
  {
   "cell_type": "code",
   "execution_count": null,
   "metadata": {},
   "outputs": [],
   "source": []
  },
  {
   "cell_type": "markdown",
   "metadata": {},
   "source": [
    "# C++ source"
   ]
  },
  {
   "cell_type": "code",
   "execution_count": null,
   "metadata": {},
   "outputs": [],
   "source": [
    "# #ifndef RUNNINGSTATS_H\n",
    "# #define RUNNINGSTATS_H\n",
    "\n",
    "# class RunningStats\n",
    "# {\n",
    "# public:\n",
    "#     RunningStats();\n",
    "#     void Clear();\n",
    "#     void Push(double x);\n",
    "#     long long NumDataValues() const;\n",
    "#     double Mean() const;\n",
    "#     double Variance() const;\n",
    "#     double StandardDeviation() const;\n",
    "#     double Skewness() const;\n",
    "#     double Kurtosis() const;\n",
    "\n",
    "#     friend RunningStats operator+(const RunningStats a, const RunningStats b);\n",
    "#     RunningStats& operator+=(const RunningStats &rhs);\n",
    "\n",
    "# private:\n",
    "#     long long n;\n",
    "#     double M1, M2, M3, M4;\n",
    "# };\n",
    "\n",
    "# #endif\n",
    "\n",
    "# And here is the implementation file RunningStats.cpp.\n",
    "\n",
    "# #include \"RunningStats.h\"\n",
    "# #include <cmath>\n",
    "# #include <vector>\n",
    "\n",
    "# RunningStats::RunningStats() \n",
    "# {\n",
    "#     Clear();\n",
    "# }\n",
    "\n",
    "# void RunningStats::Clear()\n",
    "# {\n",
    "#     n = 0;\n",
    "#     M1 = M2 = M3 = M4 = 0.0;\n",
    "# }\n",
    "\n",
    "# void RunningStats::Push(double x)\n",
    "# {\n",
    "#     double delta, delta_n, delta_n2, term1;\n",
    "\n",
    "#     long long n1 = n;\n",
    "#     n++;\n",
    "#     delta = x - M1;\n",
    "#     delta_n = delta / n;\n",
    "#     delta_n2 = delta_n * delta_n;\n",
    "#     term1 = delta * delta_n * n1;\n",
    "#     M1 += delta_n;\n",
    "#     M4 += term1 * delta_n2 * (n*n - 3*n + 3) + 6 * delta_n2 * M2 - 4 * delta_n * M3;\n",
    "#     M3 += term1 * delta_n * (n - 2) - 3 * delta_n * M2;\n",
    "#     M2 += term1;\n",
    "# }\n",
    "\n",
    "# long long RunningStats::NumDataValues() const\n",
    "# {\n",
    "#     return n;\n",
    "# }\n",
    "\n",
    "# double RunningStats::Mean() const\n",
    "# {\n",
    "#     return M1;\n",
    "# }\n",
    "\n",
    "# double RunningStats::Variance() const\n",
    "# {\n",
    "#     return M2/(n-1.0);\n",
    "# }\n",
    "\n",
    "# double RunningStats::StandardDeviation() const\n",
    "# {\n",
    "#     return sqrt( Variance() );\n",
    "# }\n",
    "\n",
    "# double RunningStats::Skewness() const\n",
    "# {\n",
    "#     return sqrt(double(n)) * M3/ pow(M2, 1.5);\n",
    "# }\n",
    "\n",
    "# double RunningStats::Kurtosis() const\n",
    "# {\n",
    "#     return double(n)*M4 / (M2*M2) - 3.0;\n",
    "# }\n",
    "\n",
    "# RunningStats operator+(const RunningStats a, const RunningStats b)\n",
    "# {\n",
    "#     RunningStats combined;\n",
    "    \n",
    "#     combined.n = a.n + b.n;\n",
    "    \n",
    "#     double delta = b.M1 - a.M1;\n",
    "#     double delta2 = delta*delta;\n",
    "#     double delta3 = delta*delta2;\n",
    "#     double delta4 = delta2*delta2;\n",
    "    \n",
    "#     combined.M1 = (a.n*a.M1 + b.n*b.M1) / combined.n;\n",
    "    \n",
    "#     combined.M2 = a.M2 + b.M2 + \n",
    "#                   delta2 * a.n * b.n / combined.n;\n",
    "    \n",
    "#     combined.M3 = a.M3 + b.M3 + \n",
    "#                   delta3 * a.n * b.n * (a.n - b.n)/(combined.n*combined.n);\n",
    "#     combined.M3 += 3.0*delta * (a.n*b.M2 - b.n*a.M2) / combined.n;\n",
    "    \n",
    "#     combined.M4 = a.M4 + b.M4 + delta4*a.n*b.n * (a.n*a.n - a.n*b.n + b.n*b.n) / \n",
    "#                   (combined.n*combined.n*combined.n);\n",
    "#     combined.M4 += 6.0*delta2 * (a.n*a.n*b.M2 + b.n*b.n*a.M2)/(combined.n*combined.n) + \n",
    "#                   4.0*delta*(a.n*b.M3 - b.n*a.M3) / combined.n;\n",
    "    \n",
    "#     return combined;\n",
    "# }\n",
    "\n",
    "# RunningStats& RunningStats::operator+=(const RunningStats& rhs)\n",
    "# { \n",
    "#         RunningStats combined = *this + rhs;\n",
    "#         *this = combined;\n",
    "#         return *this;\n",
    "# }"
   ]
  }
 ],
 "metadata": {
  "kernelspec": {
   "display_name": "Python 3",
   "language": "python",
   "name": "python3"
  },
  "language_info": {
   "codemirror_mode": {
    "name": "ipython",
    "version": 3
   },
   "file_extension": ".py",
   "mimetype": "text/x-python",
   "name": "python",
   "nbconvert_exporter": "python",
   "pygments_lexer": "ipython3",
   "version": "3.8.8"
  }
 },
 "nbformat": 4,
 "nbformat_minor": 4
}
