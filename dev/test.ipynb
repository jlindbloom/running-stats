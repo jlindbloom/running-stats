{
 "cells": [
  {
   "cell_type": "code",
   "execution_count": 48,
   "metadata": {},
   "outputs": [],
   "source": [
    "import numpy as np\n",
    "import matplotlib.pyplot as plt\n",
    "from scipy.stats import skew, kurtosis"
   ]
  },
  {
   "cell_type": "code",
   "execution_count": 50,
   "metadata": {},
   "outputs": [],
   "source": [
    "class StatsTracker:\n",
    "\n",
    "    def __init__(self, array_shape):\n",
    "        \"\"\"\n",
    "        array_shape: shape of the array whose stats we are tracking.\n",
    "        compute: list of quantities we want to compute (by default all, but can omit some).\n",
    "        \"\"\"\n",
    "        self.array_shape = array_shape\n",
    "        self.n_samples = 0 # number of samples that have been pushed so far\n",
    "        self.M1 = np.zeros(self.array_shape)\n",
    "        self.M2 = np.zeros(self.array_shape)\n",
    "        self.M3 = np.zeros(self.array_shape)\n",
    "        self.M4 = np.zeros(self.array_shape)\n",
    "\n",
    "\n",
    "\n",
    "    def push(self, sample):\n",
    "        \"\"\"Updates the running statistics to include the incoming sample.\n",
    "        \"\"\"\n",
    "\n",
    "        # Increment number of samples\n",
    "        prev_n_samples = self.n_samples\n",
    "        self.n_samples += 1\n",
    "\n",
    "        # Update everything else\n",
    "        delta = sample - self.M1\n",
    "        delta_n = delta/self.n_samples\n",
    "        delta_n2 = delta_n*delta_n\n",
    "        term1 = delta*delta_n*prev_n_samples\n",
    "        self.M1 += delta_n\n",
    "        self.M4 += term1*delta_n2*( (self.n_samples**2) - 3*self.n_samples + 3 ) + 6*delta_n2*self.M2 - 4*delta_n*self.M3\n",
    "        self.M3 += term1*delta_n*(self.n_samples - 2) - 3*delta_n*self.M2\n",
    "        self.M2 += term1\n",
    "\n",
    "\n",
    "\n",
    "    def sample_size(self):\n",
    "        \"\"\"Returns the sample size.\n",
    "        \"\"\"\n",
    "        return self.n_samples\n",
    "\n",
    "\n",
    "\n",
    "    def mean(self):\n",
    "        \"\"\"Returns the current sample mean.\n",
    "        \"\"\"\n",
    "        return self.M1\n",
    "\n",
    "\n",
    "\n",
    "    def stdev(self):\n",
    "        \"\"\"Returns the current sample standard deviation.\n",
    "        \"\"\"\n",
    "        return np.sqrt(self.variance())\n",
    "\n",
    "\n",
    "\n",
    "    def variance(self):\n",
    "        \"\"\"Returns the current sample variance.\n",
    "        \"\"\"\n",
    "        return self.M2/(self.n_samples - 1.0)\n",
    "\n",
    "\n",
    "\n",
    "    def skewness(self):\n",
    "        \"\"\"Returns the current sample skewness.\n",
    "        \"\"\"\n",
    "        return np.sqrt(self.n_samples)*self.M3/(self.M2**1.5)\n",
    "\n",
    "\n",
    "\n",
    "    def kurtosis(self):\n",
    "        \"\"\"Returns the current sample kurtosis.\n",
    "        \"\"\"\n",
    "        return self.n_samples*self.M4 / (self.M2*self.M2) - 3.0\n",
    "\n",
    "\n",
    "\n",
    "    def clear(self):\n",
    "        \"\"\"Resets the tracker.\n",
    "        \"\"\"\n",
    "        self.n_samples = 0\n",
    "        self.M1 = np.zeros(self.array_shape)\n",
    "        self.M2 = np.zeros(self.array_shape)\n",
    "        self.M3 = np.zeros(self.array_shape)\n",
    "        self.M4 = np.zeros(self.array_shape)\n",
    "        \n"
   ]
  },
  {
   "cell_type": "markdown",
   "metadata": {},
   "source": [
    "# Check"
   ]
  },
  {
   "cell_type": "code",
   "execution_count": 51,
   "metadata": {},
   "outputs": [],
   "source": [
    "np.random.seed(0)\n",
    "sample_size=3000\n",
    "samples = np.random.normal(size=(3, 3, sample_size))"
   ]
  },
  {
   "cell_type": "code",
   "execution_count": 52,
   "metadata": {},
   "outputs": [],
   "source": [
    "tracker = StatsTracker((3,3))\n",
    "for j in range(sample_size):\n",
    "    tracker.push(samples[:,:,j])"
   ]
  },
  {
   "cell_type": "code",
   "execution_count": 53,
   "metadata": {},
   "outputs": [
    {
     "name": "stdout",
     "output_type": "stream",
     "text": [
      "3000\n"
     ]
    }
   ],
   "source": [
    "print(tracker.sample_size())"
   ]
  },
  {
   "cell_type": "code",
   "execution_count": 54,
   "metadata": {},
   "outputs": [
    {
     "name": "stdout",
     "output_type": "stream",
     "text": [
      "[[-0.02762278 -0.00327172 -0.02238911]\n",
      " [-0.00886913  0.00973103  0.02161266]\n",
      " [ 0.01627541  0.00025343 -0.00655024]]\n",
      "[[-0.02762278 -0.00327172 -0.02238911]\n",
      " [-0.00886913  0.00973103  0.02161266]\n",
      " [ 0.01627541  0.00025343 -0.00655024]]\n"
     ]
    }
   ],
   "source": [
    "print(tracker.mean())\n",
    "print(np.mean(samples, axis=2))"
   ]
  },
  {
   "cell_type": "code",
   "execution_count": 60,
   "metadata": {},
   "outputs": [
    {
     "name": "stdout",
     "output_type": "stream",
     "text": [
      "[[0.94180596 0.99917571 0.96985158]\n",
      " [1.01485015 0.96696622 0.98901217]\n",
      " [0.98803425 0.99709595 0.98431407]]\n",
      "[[0.94180596 0.99917571 0.96985158]\n",
      " [1.01485015 0.96696622 0.98901217]\n",
      " [0.98803425 0.99709595 0.98431407]]\n"
     ]
    }
   ],
   "source": [
    "print(tracker.variance())\n",
    "print(np.var(samples, axis=2, ddof=1))"
   ]
  },
  {
   "cell_type": "code",
   "execution_count": 61,
   "metadata": {},
   "outputs": [
    {
     "name": "stdout",
     "output_type": "stream",
     "text": [
      "[[0.97046688 0.99958777 0.98481043]\n",
      " [1.00739771 0.9833444  0.99449091]\n",
      " [0.99399912 0.99854692 0.99212604]]\n",
      "[[0.97046688 0.99958777 0.98481043]\n",
      " [1.00739771 0.9833444  0.99449091]\n",
      " [0.99399912 0.99854692 0.99212604]]\n"
     ]
    }
   ],
   "source": [
    "print(tracker.stdev())\n",
    "print(np.std(samples, axis=2, ddof=1))"
   ]
  },
  {
   "cell_type": "code",
   "execution_count": 57,
   "metadata": {},
   "outputs": [
    {
     "name": "stdout",
     "output_type": "stream",
     "text": [
      "[[ 0.00517277  0.04315719  0.04842729]\n",
      " [ 0.02046455  0.05361658  0.00577397]\n",
      " [-0.04682475 -0.02233904 -0.01176767]]\n",
      "[[ 0.00517277  0.04315719  0.04842729]\n",
      " [ 0.02046455  0.05361658  0.00577397]\n",
      " [-0.04682475 -0.02233904 -0.01176767]]\n"
     ]
    }
   ],
   "source": [
    "print(tracker.skewness())\n",
    "print(skew(samples, axis=2))"
   ]
  },
  {
   "cell_type": "code",
   "execution_count": 58,
   "metadata": {},
   "outputs": [
    {
     "name": "stdout",
     "output_type": "stream",
     "text": [
      "[[-0.12220856 -0.00817616  0.08130489]\n",
      " [-0.04646253  0.06408941 -0.07376399]\n",
      " [ 0.14993777  0.14420643 -0.01303626]]\n",
      "[[-0.12220856 -0.00817616  0.08130489]\n",
      " [-0.04646253  0.06408941 -0.07376399]\n",
      " [ 0.14993777  0.14420643 -0.01303626]]\n"
     ]
    }
   ],
   "source": [
    "print(tracker.kurtosis())\n",
    "print(kurtosis(samples, axis=2))"
   ]
  },
  {
   "cell_type": "code",
   "execution_count": null,
   "metadata": {},
   "outputs": [],
   "source": []
  },
  {
   "cell_type": "code",
   "execution_count": null,
   "metadata": {},
   "outputs": [],
   "source": []
  },
  {
   "cell_type": "markdown",
   "metadata": {},
   "source": [
    "# C++ source"
   ]
  },
  {
   "cell_type": "code",
   "execution_count": null,
   "metadata": {},
   "outputs": [],
   "source": [
    "# #ifndef RUNNINGSTATS_H\n",
    "# #define RUNNINGSTATS_H\n",
    "\n",
    "# class RunningStats\n",
    "# {\n",
    "# public:\n",
    "#     RunningStats();\n",
    "#     void Clear();\n",
    "#     void Push(double x);\n",
    "#     long long NumDataValues() const;\n",
    "#     double Mean() const;\n",
    "#     double Variance() const;\n",
    "#     double StandardDeviation() const;\n",
    "#     double Skewness() const;\n",
    "#     double Kurtosis() const;\n",
    "\n",
    "#     friend RunningStats operator+(const RunningStats a, const RunningStats b);\n",
    "#     RunningStats& operator+=(const RunningStats &rhs);\n",
    "\n",
    "# private:\n",
    "#     long long n;\n",
    "#     double M1, M2, M3, M4;\n",
    "# };\n",
    "\n",
    "# #endif\n",
    "\n",
    "# And here is the implementation file RunningStats.cpp.\n",
    "\n",
    "# #include \"RunningStats.h\"\n",
    "# #include <cmath>\n",
    "# #include <vector>\n",
    "\n",
    "# RunningStats::RunningStats() \n",
    "# {\n",
    "#     Clear();\n",
    "# }\n",
    "\n",
    "# void RunningStats::Clear()\n",
    "# {\n",
    "#     n = 0;\n",
    "#     M1 = M2 = M3 = M4 = 0.0;\n",
    "# }\n",
    "\n",
    "# void RunningStats::Push(double x)\n",
    "# {\n",
    "#     double delta, delta_n, delta_n2, term1;\n",
    "\n",
    "#     long long n1 = n;\n",
    "#     n++;\n",
    "#     delta = x - M1;\n",
    "#     delta_n = delta / n;\n",
    "#     delta_n2 = delta_n * delta_n;\n",
    "#     term1 = delta * delta_n * n1;\n",
    "#     M1 += delta_n;\n",
    "#     M4 += term1 * delta_n2 * (n*n - 3*n + 3) + 6 * delta_n2 * M2 - 4 * delta_n * M3;\n",
    "#     M3 += term1 * delta_n * (n - 2) - 3 * delta_n * M2;\n",
    "#     M2 += term1;\n",
    "# }\n",
    "\n",
    "# long long RunningStats::NumDataValues() const\n",
    "# {\n",
    "#     return n;\n",
    "# }\n",
    "\n",
    "# double RunningStats::Mean() const\n",
    "# {\n",
    "#     return M1;\n",
    "# }\n",
    "\n",
    "# double RunningStats::Variance() const\n",
    "# {\n",
    "#     return M2/(n-1.0);\n",
    "# }\n",
    "\n",
    "# double RunningStats::StandardDeviation() const\n",
    "# {\n",
    "#     return sqrt( Variance() );\n",
    "# }\n",
    "\n",
    "# double RunningStats::Skewness() const\n",
    "# {\n",
    "#     return sqrt(double(n)) * M3/ pow(M2, 1.5);\n",
    "# }\n",
    "\n",
    "# double RunningStats::Kurtosis() const\n",
    "# {\n",
    "#     return double(n)*M4 / (M2*M2) - 3.0;\n",
    "# }\n",
    "\n",
    "# RunningStats operator+(const RunningStats a, const RunningStats b)\n",
    "# {\n",
    "#     RunningStats combined;\n",
    "    \n",
    "#     combined.n = a.n + b.n;\n",
    "    \n",
    "#     double delta = b.M1 - a.M1;\n",
    "#     double delta2 = delta*delta;\n",
    "#     double delta3 = delta*delta2;\n",
    "#     double delta4 = delta2*delta2;\n",
    "    \n",
    "#     combined.M1 = (a.n*a.M1 + b.n*b.M1) / combined.n;\n",
    "    \n",
    "#     combined.M2 = a.M2 + b.M2 + \n",
    "#                   delta2 * a.n * b.n / combined.n;\n",
    "    \n",
    "#     combined.M3 = a.M3 + b.M3 + \n",
    "#                   delta3 * a.n * b.n * (a.n - b.n)/(combined.n*combined.n);\n",
    "#     combined.M3 += 3.0*delta * (a.n*b.M2 - b.n*a.M2) / combined.n;\n",
    "    \n",
    "#     combined.M4 = a.M4 + b.M4 + delta4*a.n*b.n * (a.n*a.n - a.n*b.n + b.n*b.n) / \n",
    "#                   (combined.n*combined.n*combined.n);\n",
    "#     combined.M4 += 6.0*delta2 * (a.n*a.n*b.M2 + b.n*b.n*a.M2)/(combined.n*combined.n) + \n",
    "#                   4.0*delta*(a.n*b.M3 - b.n*a.M3) / combined.n;\n",
    "    \n",
    "#     return combined;\n",
    "# }\n",
    "\n",
    "# RunningStats& RunningStats::operator+=(const RunningStats& rhs)\n",
    "# { \n",
    "#         RunningStats combined = *this + rhs;\n",
    "#         *this = combined;\n",
    "#         return *this;\n",
    "# }"
   ]
  }
 ],
 "metadata": {
  "kernelspec": {
   "display_name": "speckle38",
   "language": "python",
   "name": "python3"
  },
  "language_info": {
   "codemirror_mode": {
    "name": "ipython",
    "version": 3
   },
   "file_extension": ".py",
   "mimetype": "text/x-python",
   "name": "python",
   "nbconvert_exporter": "python",
   "pygments_lexer": "ipython3",
   "version": "3.8.12"
  },
  "orig_nbformat": 4
 },
 "nbformat": 4,
 "nbformat_minor": 2
}
